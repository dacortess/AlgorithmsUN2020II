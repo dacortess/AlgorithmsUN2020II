{
 "cells": [
  {
   "cell_type": "markdown",
   "metadata": {
    "collapsed": false
   },
   "source": [
    "# SymPyLab\n",
    "\n",
    "## SymPy’s polynomials \n",
    "\n",
    "- (x-6)(x-7)(x-8)(x-9)(x-10) = x^5 - 40 x^4  + 635 x^3 - 5000 x^2 + 19524 x - 30240\n",
    "\n",
    "- (x^5 - 40 x^4  + 635 x^3 - 5000 x^2 + 19524 x - 30240) / (x-6) = x^4  - 34 x^3  + 431 x^2  - 2414 x + 5040\n",
    "\n",
    "<img src=\"https://raw.githubusercontent.com/dacortess/AlgorithmsUN2020II/master/SymPyLab/sympylabwolfram1.png\" /> <img src=\"https://raw.githubusercontent.com/dacortess/AlgorithmsUN2020II/master/SymPyLab/sympylabwolfram2.png\" />"
   ]
  },
  {
   "cell_type": "code",
   "execution_count": 1,
   "metadata": {
    "collapsed": false
   },
   "outputs": [
    {
     "name": "stdout",
     "output_type": "stream",
     "text": [
      "Polinomio: x**5 - 40*x**4 + 635*x**3 - 5000*x**2 + 19524*x - 30240\n",
      "    Entre: x-6\n",
      "\n",
      "Polynomio: x**4 - 34*x**3 + 431*x**2 - 2414*x + 5040  \n",
      "  Residuo: 0 \n",
      "    Entre: x-7\n",
      "\n",
      "Polynomio: x**3 - 27*x**2 + 242*x - 720  \n",
      "  Residuo: 0 \n",
      "    Entre: x-8\n",
      "\n",
      "Polynomio: x**2 - 19*x + 90  \n",
      "  Residuo: 0 \n",
      "    Entre: x-9\n",
      "\n",
      "Polynomio: x - 10  \n",
      "  Residuo: 0\n"
     ]
    }
   ],
   "source": [
    "from sympy import Symbol\n",
    "from sympy import div\n",
    "#(x^5 - 40 x^4  + 635 x^3 - 5000 x^2 + 19524 x - 30240)\n",
    "x = Symbol('x')\n",
    "\n",
    "p = x**5 - 40*x**4  + 635*x**3 - 5000*x**2 + 19524*x - 30240\n",
    "\n",
    "print(\"Polinomio:\", p)\n",
    "print(\"    Entre: x-6\")\n",
    "\n",
    "p, r = div(p,  x-6)\n",
    "\n",
    "print(\"\\nPolynomio:\", p, \" \\n  Residuo:\", r, \"\\n    Entre: x-7\")\n",
    "\n",
    "p, r = div(p,  x-7)\n",
    "\n",
    "print(\"\\nPolynomio:\", p, \" \\n  Residuo:\", r, \"\\n    Entre: x-8\")\n",
    "\n",
    "p, r = div(p,  x-8)\n",
    "\n",
    "print(\"\\nPolynomio:\", p, \" \\n  Residuo:\", r, \"\\n    Entre: x-9\")\n",
    "\n",
    "p, r = div(p,  x-9)\n",
    "\n",
    "print(\"\\nPolynomio:\", p, \" \\n  Residuo:\", r)\n"
   ]
  },
  {
   "cell_type": "markdown",
   "metadata": {
    "collapsed": false
   },
   "source": [
    "## SymPy’s polynomial simple univariate polynomial factorization\n",
    "- factor(x\\*\\*5 - 40\\*x\\*\\*4  + 635\\*x\\*\\*3 - 5000\\*x\\*\\*2 + 19524\\*x - 30240)\n",
    "<img src=\"https://raw.githubusercontent.com/dacortess/AlgorithmsUN2020II/master/SymPyLab/sympylabwolfram3.png\" />"
   ]
  },
  {
   "cell_type": "code",
   "execution_count": 2,
   "metadata": {
    "collapsed": false
   },
   "outputs": [
    {
     "name": "stdout",
     "output_type": "stream",
     "text": [
      "Factorizado: (x - 10)*(x - 9)*(x - 8)*(x - 7)*(x - 6)\n"
     ]
    }
   ],
   "source": [
    "from sympy import *\n",
    "x = Symbol('x')\n",
    "print(\"Factorizado:\",factor(x**5 - 40*x**4  + 635*x**3 - 5000*x**2 + 19524*x - 30240))"
   ]
  },
  {
   "cell_type": "markdown",
   "metadata": {
    "collapsed": false
   },
   "source": [
    "## SymPy’s solvers\n",
    "- x^{5} - 40*x^{4}  + 635*x^{3} - 5000*x^{2} + 19524*x - 30240 = 0\n",
    "\n",
    "<img src=\"https://raw.githubusercontent.com/dacortess/AlgorithmsUN2020II/master/SymPyLab/sympylabwolfram4.png\" />"
   ]
  },
  {
   "cell_type": "code",
   "execution_count": 8,
   "metadata": {
    "collapsed": false
   },
   "outputs": [
    {
     "name": "stdout",
     "output_type": "stream",
     "text": [
      "Raices: FiniteSet(6, 7, 8, 9, 10)\n"
     ]
    }
   ],
   "source": [
    "from sympy import *\n",
    "x = Symbol('x')\n",
    "print(\"Raices:\",solveset(Eq(x**5 - 40*x**4  + 635*x**3 - 5000*x**2 + 19524*x - 30240, 0), x))\n"
   ]
  },
  {
   "cell_type": "markdown",
   "metadata": {
    "collapsed": false
   },
   "source": [
    "## SymPy’s Symbolic and Numercical Complex Evaluations\n",
    "- x = x1 + I*x2,y = y1 + I*y2, z = z1 + I*z2, x*2y*(z^2)\n",
    "<img src=\"https://raw.githubusercontent.com/dacortess/AlgorithmsUN2020II/master/SymPyLab/sympylabwolfram5.png\" />"
   ]
  },
  {
   "cell_type": "code",
   "execution_count": 9,
   "metadata": {
    "collapsed": false
   },
   "outputs": [
    {
     "name": "stdout",
     "output_type": "stream",
     "text": [
      "(2*x1 + 2*I*x2)*(y1 + I*y2)*(z1 + I*z2)**2 \n",
      "\n",
      "2*x1*y1*z1**2 + 4*I*x1*y1*z1*z2 - 2*x1*y1*z2**2 + 2*I*x1*y2*z1**2 - 4*x1*y2*z1*z2 - 2*I*x1*y2*z2**2 + 2*I*x2*y1*z1**2 - 4*x2*y1*z1*z2 - 2*I*x2*y1*z2**2 - 2*x2*y2*z1**2 - 4*I*x2*y2*z1*z2 + 2*x2*y2*z2**2 \n",
      "\n",
      "2*x1*y1*z1**2 + 4*I*x1*y1*z1*z2 - 2*x1*y1*z2**2 + 2*I*x1*y2*z1**2 - 4*x1*y2*z1*z2 - 2*I*x1*y2*z2**2 + 2*I*x2*y1*z1**2 - 4*x2*y1*z1*z2 - 2*I*x2*y1*z2**2 - 2*x2*y2*z1**2 - 4*I*x2*y2*z1*z2 + 2*x2*y2*z2**2 \n",
      "\n",
      "2*x1*y1*z1**2 + 4*I*x1*y1*z1*z2 - 2*x1*y1*z2**2 + 2*I*x1*y2*z1**2 - 4*x1*y2*z1*z2 - 2*I*x1*y2*z2**2 + 2*I*x2*y1*z1**2 - 4*x2*y1*z1*z2 - 2*I*x2*y1*z2**2 - 2*x2*y2*z1**2 - 4*I*x2*y2*z1*z2 + 2*x2*y2*z2**2 \n",
      "\n",
      "w= 0.289025482222236 - 0.0919996683503752*I\n"
     ]
    }
   ],
   "source": [
    "from sympy import *\n",
    "x1, x2, y1, y2, z1, z2 = symbols(\"x1 x2 y1 y2 z1 z2\", real=True)  \n",
    "x = x1 + I*x2\n",
    "y = y1 + I*y2\n",
    "z = z1 + I*z2\n",
    "\n",
    "print(x*2*y*(z**2),\"\\n\")\n",
    "print(expand(x*2*y*(z**2)),\"\\n\")\n",
    "print(expand(x*(2*y*(z**2))),\"\\n\")\n",
    "print(expand((2*x*y)*(z**2)),\"\\n\")\n",
    "\n",
    "w=N(1/(pi + I), 15)\n",
    "print('w=',w)"
   ]
  },
  {
   "cell_type": "markdown",
   "metadata": {
    "collapsed": false
   },
   "source": [
    "## SymPy’s integrals\n",
    "$$\\int_0^7 sin(2x)*log(5^{x}) dx$$"
   ]
  },
  {
   "cell_type": "code",
   "execution_count": 10,
   "metadata": {
    "collapsed": false
   },
   "outputs": [
    {
     "name": "stdout",
     "output_type": "stream",
     "text": [
      "-x*log(5)*cos(2*x)/2 + log(5)*sin(2*x)/4\n",
      "Analytical result: -0.37166496193776205\n"
     ]
    }
   ],
   "source": [
    "import sympy\n",
    "# we’ll save results using different methods in this data structure, called a dictionary\n",
    "result = {}  \n",
    "x = sympy.Symbol(\"x\")\n",
    "i = sympy.integrate(sympy.sin(2*x)*sympy.log(5**x))\n",
    "print(i)\n",
    "result[\"analytical\"] = float(i.subs(x, 7) - i.subs(x, 0))\n",
    "print(\"Analytical result: {}\".format(result[\"analytical\"]))"
   ]
  },
  {
   "cell_type": "markdown",
   "metadata": {
    "collapsed": false
   },
   "source": [
    "**Integrating with Monte Carlo** "
   ]
  },
  {
   "cell_type": "code",
   "execution_count": 11,
   "metadata": {
    "collapsed": false
   },
   "outputs": [
    {
     "name": "stdout",
     "output_type": "stream",
     "text": [
      "Standard Monte Carlo result: 0.255571288964156\n"
     ]
    }
   ],
   "source": [
    "import numpy\n",
    "N = 10000\n",
    "accum = 0\n",
    "for i in range(N):\n",
    "    x = numpy.random.uniform(0, 7)\n",
    "    accum += sympy.sin(2*x)*sympy.log(5**x)\n",
    "volume = 7 - 0\n",
    "result[\"MC\"] = volume * accum / float(N)\n",
    "print(\"Standard Monte Carlo result: {}\".format(result[\"MC\"]))"
   ]
  },
  {
   "cell_type": "markdown",
   "metadata": {
    "collapsed": false
   },
   "source": [
    "- integrate(sin(2x)*log(5^{x}))\n",
    "\n",
    "<img src=\"https://raw.githubusercontent.com/dacortess/AlgorithmsUN2020II/master/SymPyLab/sympylabwolfram6.png\" />"
   ]
  },
  {
   "cell_type": "code",
   "execution_count": 13,
   "metadata": {
    "collapsed": false
   },
   "outputs": [
    {
     "name": "stdout",
     "output_type": "stream",
     "text": [
      "-4*x*log(2)*log(5)*sin(2*x)/(2**x*log(2)**4 + 8*2**x*log(2)**2 + 16*2**x) - x*log(2)**3*log(5)*sin(2*x)/(2**x*log(2)**4 + 8*2**x*log(2)**2 + 16*2**x) - 8*x*log(5)*cos(2*x)/(2**x*log(2)**4 + 8*2**x*log(2)**2 + 16*2**x) - 2*x*log(2)**2*log(5)*cos(2*x)/(2**x*log(2)**4 + 8*2**x*log(2)**2 + 16*2**x) - log(2)**2*log(5)*sin(2*x)/(2**x*log(2)**4 + 8*2**x*log(2)**2 + 16*2**x) + 4*log(5)*sin(2*x)/(2**x*log(2)**4 + 8*2**x*log(2)**2 + 16*2**x) - 4*log(2)*log(5)*cos(2*x)/(2**x*log(2)**4 + 8*2**x*log(2)**2 + 16*2**x)\n",
      "0.20537334249588446\n"
     ]
    }
   ],
   "source": [
    "import sympy\n",
    "x = Symbol(\"x\")\n",
    "i = sympy.integrate((sympy.sin(2*x)*sympy.log(5**x))/(2**x))\n",
    "print(i)\n",
    "a = i.subs(x, 7) - i.subs(x, 0)\n",
    "print(float(a))"
   ]
  },
  {
   "cell_type": "code",
   "execution_count": 14,
   "metadata": {
    "collapsed": false
   },
   "outputs": [
    {
     "name": "stdout",
     "output_type": "stream",
     "text": [
      "Standard Monte Carlo result: -0.114461947352328\n"
     ]
    }
   ],
   "source": [
    "import numpy\n",
    "N = 10000\n",
    "accum = 0\n",
    "l =[]\n",
    "for i in range(N):\n",
    "    x = numpy.random.uniform(0, 3)\n",
    "    accum += (sympy.sin(2*x)*sympy.log(5**x))/(2**x)\n",
    "volume = 7 - 0\n",
    "result[\"MC\"] = volume * accum / float(N)\n",
    "print(\"Standard Monte Carlo result: {}\".format(result[\"MC\"]))"
   ]
  },
  {
   "cell_type": "markdown",
   "metadata": {
    "collapsed": false
   },
   "source": [
    "**A higher dimensional integral** "
   ]
  },
  {
   "cell_type": "code",
   "execution_count": 15,
   "metadata": {
    "collapsed": false
   },
   "outputs": [
    {
     "name": "stdout",
     "output_type": "stream",
     "text": [
      "Analytical result: 562653.3090797382\n"
     ]
    }
   ],
   "source": [
    "import sympy\n",
    "\n",
    "x1 = sympy.Symbol(\"x1\")\n",
    "x2 = sympy.Symbol(\"x2\")\n",
    "x3 = sympy.Symbol(\"x3\")\n",
    "expr = (1/2)*sympy.sin(x1)**3 + sympy.log(7)*sympy.sin(x2)**5 + sympy.cos(0.1) * x3**4 * sympy.exp(6)\n",
    "res = sympy.integrate(expr,\n",
    "                      (x1, -sympy.pi/2, sympy.pi),\n",
    "                      (x2, -sympy.pi/2, sympy.pi),\n",
    "                      (x3, -sympy.pi/2, sympy.pi))\n",
    "# Note: we use float(res) to convert res from symbolic form to floating point form\n",
    "result = {} \n",
    "result[\"analytical\"] = float(res)\n",
    "print(\"Analytical result: {}\".format(result[\"analytical\"]))"
   ]
  },
  {
   "cell_type": "code",
   "execution_count": 16,
   "metadata": {
    "collapsed": false
   },
   "outputs": [
    {
     "name": "stdout",
     "output_type": "stream",
     "text": [
      "Standard Monte Carlo result: 17.0410683017186 + 26.8157663111006*log(7) + 3307.16969508451*exp(6)\n"
     ]
    }
   ],
   "source": [
    "N = 10000\n",
    "accum = 0\n",
    "for i in range(N):\n",
    "    xx1 = numpy.random.uniform(-numpy.pi/2, numpy.pi)\n",
    "    xx2 = numpy.random.uniform(-numpy.pi/2, numpy.pi)\n",
    "    xx3 = numpy.random.uniform(-numpy.pi/2, numpy.pi)\n",
    "    accum += (1/2)*sympy.sin(xx1)**3 + sympy.log(7)*sympy.sin(xx2)**5 + sympy.cos(0.1) * xx3**4 * sympy.exp(6)\n",
    "volume = (2 * numpy.pi)**3\n",
    "result = {} \n",
    "result[\"MC\"] = volume * accum / float(N)\n",
    "print(\"Standard Monte Carlo result: {}\".format(result[\"MC\"]))"
   ]
  },
  {
   "cell_type": "code",
   "execution_count": 17,
   "metadata": {
    "collapsed": false
   },
   "outputs": [
   ],
   "source": [
    "import math\n",
    "import numpy\n",
    "# adapted from https://mail.scipy.org/pipermail/scipy-user/2013-June/034744.html\n",
    "def halton(dim: int, nbpts: int):\n",
    "    h = numpy.full(nbpts * dim, numpy.nan)\n",
    "    p = numpy.full(nbpts, numpy.nan)\n",
    "    P = [2, 3, 5, 7, 11, 13, 17, 19, 23, 29, 31]\n",
    "    lognbpts = math.log(nbpts + 1)\n",
    "    for i in range(dim):\n",
    "        b = P[i]\n",
    "        n = int(math.ceil(lognbpts / math.log(b)))\n",
    "        for t in range(n):\n",
    "            p[t] = pow(b, -(t + 1))\n",
    "\n",
    "        for j in range(nbpts):\n",
    "            d = j + 1\n",
    "            sum_ = math.fmod(d, b) * p[0]\n",
    "            for t in range(1, n):\n",
    "                d = math.floor(d / b)\n",
    "                sum_ += math.fmod(d, b) * p[t]\n",
    "\n",
    "            h[j*dim + i] = sum_\n",
    "    return h.reshape(nbpts, dim)"
   ]
  },
  {
   "cell_type": "code",
   "execution_count": 18,
   "metadata": {
    "collapsed": false
   },
   "outputs": [
    {
     "name": "stderr",
     "output_type": "stream",
     "text": [
      "<ipython-input-18-66f08eaeefce>:7: MatplotlibDeprecationWarning: Adding an axes using the same arguments as a previous axes currently reuses the earlier instance.  In a future version, a new instance will always be created and returned.  Meanwhile, this warning can be suppressed, and the future behavior ensured, by passing a unique label to each axes instance.\n",
      "  plt.axes().set_aspect('equal')\n"
     ]
    },
    {
     "data": {
      "image/png": "[encoded data removed]",
      "text/plain": [
       "<Figure size 864x504 with 1 Axes>"
      ]
     },
     "execution_count": 18,
     "metadata": {
      "image/png": {
       "height": 426,
       "width": 417
      },
      "needs_background": "light"
     },
     "output_type": "execute_result"
    }
   ],
   "source": [
    "import matplotlib.pyplot as plt\n",
    "N = 1000\n",
    "seq = halton(2, N)\n",
    "plt.title(\"2D Halton sequence\")\n",
    "# Note: we use \"alpha=0.5\" in the scatterplot so that the plotted points are semi-transparent\n",
    "# (alpha-transparency of 0.5 out of 1), so that we can see when any points are superimposed.\n",
    "plt.axes().set_aspect('equal')\n",
    "plt.scatter(seq[:,0], seq[:,1], marker=\".\", alpha=0.5);"
   ]
  },
  {
   "cell_type": "code",
   "execution_count": 19,
   "metadata": {
    "collapsed": false
   },
   "outputs": [
    {
     "name": "stdout",
     "output_type": "stream",
     "text": [
      "Qausi Monte Carlo Halton Sequence result: -0.00310460469782315*log(7) - 0.000125825960784367 + 4808.31960954477*exp(6)\n"
     ]
    }
   ],
   "source": [
    "N = 10000\n",
    "\n",
    "seq = halton(3, N)\n",
    "accum = 0\n",
    "for i in range(N):\n",
    "    xx1 = -numpy.pi + seq[i][0] * numpy.pi * 2\n",
    "    xx2 = -numpy.pi + seq[i][1] * numpy.pi * 2\n",
    "    xx3 = -numpy.pi + seq[i][2] * numpy.pi * 2\n",
    "    accum += (1/2)*sympy.sin(xx1)**3 + sympy.log(7)*sympy.sin(xx2)**5 + sympy.cos(0.1) * xx3**4 * sympy.exp(6)\n",
    "volume = (2 * numpy.pi)**3\n",
    "result = {} \n",
    "result[\"MC\"] = volume * accum / float(N)\n",
    "print(\"Qausi Monte Carlo Halton Sequence result: {}\".format(result[\"MC\"]))"
   ]
  },
  {
   "cell_type": "markdown",
   "metadata": {
    "collapsed": false
   },
   "source": [
    "## Wolfram alpha answers quastion in natural languaje\n",
    "- What is the population of Bogota?\n",
    "\n",
    "<img src=\"https://raw.githubusercontent.com/dacortess/AlgorithmsUN2020II/master/SymPyLab/sympylabwolfram7.png\" />"
   ]
  }
 ],
 "metadata": {
  "kernelspec": {
   "display_name": "Python 3 (system-wide)",
   "language": "python",
   "metadata": {
    "cocalc": {
     "description": "Python 3 programming language",
     "priority": 100,
     "url": "https://www.python.org/"
    }
   },
   "name": "python3"
  },
  "language_info": {
   "codemirror_mode": {
    "name": "ipython",
    "version": 3
   },
   "file_extension": ".py",
   "mimetype": "text/x-python",
   "name": "python",
   "nbconvert_exporter": "python",
   "pygments_lexer": "ipython3",
   "version": "3.8.5"
  }
 },
 "nbformat": 4,
 "nbformat_minor": 4
}